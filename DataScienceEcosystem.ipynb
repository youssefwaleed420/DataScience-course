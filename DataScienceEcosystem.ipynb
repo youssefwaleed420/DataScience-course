{
 "cells": [
  {
   "cell_type": "markdown",
   "id": "15dc4884-ab81-4cf5-953f-874aa2058ba9",
   "metadata": {},
   "source": [
    "# Data Science Tools and Ecosystem"
   ]
  },
  {
   "cell_type": "markdown",
   "id": "762a2ac0-85a0-49cf-ad3a-9adbd535a111",
   "metadata": {},
   "source": [
    "In this notebook, Data Science Tools and Ecosystem are summarized."
   ]
  },
  {
   "cell_type": "markdown",
   "id": "32231e7d-2ea4-4d98-90dc-acab51f1ed0c",
   "metadata": {},
   "source": [
    "Some of the popular languages that Data Scientists use are:\n",
    "1. Python\n",
    "2. R\n",
    "3. SQL\n",
    "4. C++"
   ]
  },
  {
   "cell_type": "markdown",
   "id": "ef3a84cb-cf4a-48de-b960-e5f51883600e",
   "metadata": {},
   "source": [
    "Some of the commonly used libraries used by Data Scientists include:\n",
    "1. Pandas\n",
    "2. Numpy\n",
    "3. Sklearn\n",
    "4. Keras"
   ]
  },
  {
   "cell_type": "markdown",
   "id": "1613124b-9c27-4df2-838c-923d340ab084",
   "metadata": {},
   "source": [
    "Data Science Tools\n",
    "\n",
    "| Data Science Tools |\n",
    "| ------------- |\n",
    "| Jupyter |\n",
    "| MongoDB |\n",
    "| Rstudio |"
   ]
  },
  {
   "cell_type": "markdown",
   "id": "07224a0d-8194-4a02-b41a-21f7e50960ae",
   "metadata": {},
   "source": [
    "### Below are a few examples of evaluating arithmetic expressions in Python"
   ]
  },
  {
   "cell_type": "code",
   "execution_count": 19,
   "id": "f31d8290-8c53-485d-af76-3caaf28044ab",
   "metadata": {},
   "outputs": [
    {
     "data": {
      "text/plain": [
       "17"
      ]
     },
     "execution_count": 19,
     "metadata": {},
     "output_type": "execute_result"
    }
   ],
   "source": [
    " #This a simple arithmetic expression to mutiply then add integers\n",
    "(3*4)+5"
   ]
  },
  {
   "cell_type": "code",
   "execution_count": 21,
   "id": "26e9157c-7b28-4680-8cd5-5d77b0929829",
   "metadata": {},
   "outputs": [
    {
     "data": {
      "text/plain": [
       "3.3333333333333335"
      ]
     },
     "execution_count": 21,
     "metadata": {},
     "output_type": "execute_result"
    }
   ],
   "source": [
    "#This will convert 200 minutes to hours by diving by 60\n",
    "200/60"
   ]
  },
  {
   "cell_type": "markdown",
   "id": "38fa987c-faff-47dc-9c6a-5b55fc117420",
   "metadata": {},
   "source": [
    "Objectives:\n",
    "* Python\n",
    "* C++\n",
    "* R\n",
    "* SQL\n",
    "* Ruby\n",
    "* Lisp"
   ]
  },
  {
   "cell_type": "markdown",
   "id": "704ba94a-25f6-43c2-9ceb-4e7c3c27c138",
   "metadata": {},
   "source": [
    "## Auther\n",
    "Youssef \n"
   ]
  },
  {
   "cell_type": "code",
   "execution_count": null,
   "id": "b7b89c07-9bfa-4a1e-8139-a7a709fbdad2",
   "metadata": {},
   "outputs": [],
   "source": []
  }
 ],
 "metadata": {
  "kernelspec": {
   "display_name": "Python 3 (ipykernel)",
   "language": "python",
   "name": "python3"
  },
  "language_info": {
   "codemirror_mode": {
    "name": "ipython",
    "version": 3
   },
   "file_extension": ".py",
   "mimetype": "text/x-python",
   "name": "python",
   "nbconvert_exporter": "python",
   "pygments_lexer": "ipython3",
   "version": "3.11.5"
  }
 },
 "nbformat": 4,
 "nbformat_minor": 5
}
